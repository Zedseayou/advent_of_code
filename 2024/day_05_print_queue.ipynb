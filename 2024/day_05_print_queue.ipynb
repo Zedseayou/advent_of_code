{
 "cells": [
  {
   "cell_type": "code",
   "execution_count": null,
   "metadata": {},
   "outputs": [],
   "source": [
    "from tqdm.notebook import tqdm"
   ]
  },
  {
   "cell_type": "code",
   "execution_count": 22,
   "metadata": {},
   "outputs": [],
   "source": [
    "def read_input(path):\n",
    "    with open(path) as file:\n",
    "        lines = [line.strip() for line in file]\n",
    "        ordering_rules = [[int(page) for page in line.split(\"|\")] for line in lines if \"|\" in line ]\n",
    "        print_updates = [[int(page) for page in line.split(\",\")] for line in lines if \",\" in line]\n",
    "    return ordering_rules, print_updates"
   ]
  },
  {
   "cell_type": "code",
   "execution_count": 35,
   "metadata": {},
   "outputs": [
    {
     "data": {
      "text/plain": [
       "([[47, 53],\n",
       "  [97, 13],\n",
       "  [97, 61],\n",
       "  [97, 47],\n",
       "  [75, 29],\n",
       "  [61, 13],\n",
       "  [75, 53],\n",
       "  [29, 13],\n",
       "  [97, 29],\n",
       "  [53, 29],\n",
       "  [61, 53],\n",
       "  [97, 53],\n",
       "  [61, 29],\n",
       "  [47, 13],\n",
       "  [75, 47],\n",
       "  [97, 75],\n",
       "  [47, 61],\n",
       "  [75, 61],\n",
       "  [47, 29],\n",
       "  [75, 13],\n",
       "  [53, 13]],\n",
       " [[75, 47, 61, 53, 29],\n",
       "  [97, 61, 53, 29, 13],\n",
       "  [75, 29, 13],\n",
       "  [75, 97, 47, 61, 53],\n",
       "  [61, 13, 29],\n",
       "  [97, 13, 75, 29, 47]])"
      ]
     },
     "execution_count": 35,
     "metadata": {},
     "output_type": "execute_result"
    }
   ],
   "source": [
    "test = read_input(\"test/test_05.txt\")\n",
    "test"
   ]
  },
  {
   "cell_type": "code",
   "execution_count": 36,
   "metadata": {},
   "outputs": [],
   "source": [
    "input = read_input(\"input/input_05.txt\")"
   ]
  },
  {
   "cell_type": "code",
   "execution_count": 25,
   "metadata": {},
   "outputs": [
    {
     "ename": "ValueError",
     "evalue": "21 is not in list",
     "output_type": "error",
     "traceback": [
      "\u001b[0;31m---------------------------------------------------------------------------\u001b[0m",
      "\u001b[0;31mValueError\u001b[0m                                Traceback (most recent call last)",
      "Cell \u001b[0;32mIn[25], line 1\u001b[0m\n\u001b[0;32m----> 1\u001b[0m \u001b[43m[\u001b[49m\u001b[38;5;241;43m75\u001b[39;49m\u001b[43m,\u001b[49m\u001b[43m \u001b[49m\u001b[38;5;241;43m47\u001b[39;49m\u001b[43m,\u001b[49m\u001b[43m \u001b[49m\u001b[38;5;241;43m61\u001b[39;49m\u001b[43m,\u001b[49m\u001b[43m \u001b[49m\u001b[38;5;241;43m53\u001b[39;49m\u001b[43m,\u001b[49m\u001b[43m \u001b[49m\u001b[38;5;241;43m29\u001b[39;49m\u001b[43m]\u001b[49m\u001b[38;5;241;43m.\u001b[39;49m\u001b[43mindex\u001b[49m\u001b[43m(\u001b[49m\u001b[38;5;241;43m21\u001b[39;49m\u001b[43m)\u001b[49m\n",
      "\u001b[0;31mValueError\u001b[0m: 21 is not in list"
     ]
    }
   ],
   "source": [
    "[75, 47, 61, 53, 29].index(21)"
   ]
  },
  {
   "cell_type": "code",
   "execution_count": 27,
   "metadata": {},
   "outputs": [],
   "source": [
    "def check_update(update, rules):\n",
    "    rule_checks = []\n",
    "    for rule in rules:\n",
    "        try:\n",
    "            rule_checks.append(update.index(rule[0]) < update.index(rule[1]))\n",
    "        except ValueError:\n",
    "            pass\n",
    "    return all(rule_checks)\n"
   ]
  },
  {
   "cell_type": "code",
   "execution_count": 45,
   "metadata": {},
   "outputs": [
    {
     "data": {
      "text/plain": [
       "3"
      ]
     },
     "execution_count": 45,
     "metadata": {},
     "output_type": "execute_result"
    }
   ],
   "source": [
    "[1, 2, 3, 4, 5][2]"
   ]
  },
  {
   "cell_type": "code",
   "execution_count": 46,
   "metadata": {},
   "outputs": [],
   "source": [
    "def q5a(rules, updates):\n",
    "    valid_updates = []\n",
    "    for update in updates:\n",
    "        if check_update(update, rules):\n",
    "            valid_updates.append(update)\n",
    "    middle_pages = [u[len(u) // 2] for u in valid_updates]\n",
    "    return sum(middle_pages)"
   ]
  },
  {
   "cell_type": "code",
   "execution_count": 48,
   "metadata": {},
   "outputs": [
    {
     "data": {
      "text/plain": [
       "143"
      ]
     },
     "execution_count": 48,
     "metadata": {},
     "output_type": "execute_result"
    }
   ],
   "source": [
    "q5a(*test)"
   ]
  },
  {
   "cell_type": "code",
   "execution_count": 49,
   "metadata": {},
   "outputs": [
    {
     "data": {
      "text/plain": [
       "5964"
      ]
     },
     "execution_count": 49,
     "metadata": {},
     "output_type": "execute_result"
    }
   ],
   "source": [
    "q5a(*input)"
   ]
  },
  {
   "cell_type": "code",
   "execution_count": 60,
   "metadata": {},
   "outputs": [],
   "source": [
    "def quicksort(arr, rules):\n",
    "    if len(arr) < 2:\n",
    "        return arr\n",
    "    \n",
    "    pivot = arr[len(arr) // 2]\n",
    "    left = [x for x in arr if [x, pivot] in rules]\n",
    "    middle = [x for x in arr if x == pivot]\n",
    "    right = [x for x in arr if [pivot, x] in rules]\n",
    "\n",
    "    return quicksort(left, rules) + middle + quicksort(right, rules)"
   ]
  },
  {
   "cell_type": "code",
   "execution_count": 81,
   "metadata": {},
   "outputs": [],
   "source": [
    "def q5b(rules, updates):\n",
    "    invalid_updates = []\n",
    "    for update in updates:\n",
    "        if not check_update(update, rules):\n",
    "            invalid_updates.append(update)\n",
    "    middle_pages = [quicksort(u, rules)[len(u) // 2] for u in invalid_updates]\n",
    "    return sum(middle_pages)"
   ]
  },
  {
   "cell_type": "code",
   "execution_count": 82,
   "metadata": {},
   "outputs": [
    {
     "data": {
      "text/plain": [
       "123"
      ]
     },
     "execution_count": 82,
     "metadata": {},
     "output_type": "execute_result"
    }
   ],
   "source": [
    "q5b(*test)"
   ]
  },
  {
   "cell_type": "code",
   "execution_count": 83,
   "metadata": {},
   "outputs": [
    {
     "data": {
      "text/plain": [
       "4719"
      ]
     },
     "execution_count": 83,
     "metadata": {},
     "output_type": "execute_result"
    }
   ],
   "source": [
    "q5b(*input)"
   ]
  }
 ],
 "metadata": {
  "kernelspec": {
   "display_name": ".venv",
   "language": "python",
   "name": "python3"
  },
  "language_info": {
   "codemirror_mode": {
    "name": "ipython",
    "version": 3
   },
   "file_extension": ".py",
   "mimetype": "text/x-python",
   "name": "python",
   "nbconvert_exporter": "python",
   "pygments_lexer": "ipython3",
   "version": "3.13.0"
  }
 },
 "nbformat": 4,
 "nbformat_minor": 2
}
