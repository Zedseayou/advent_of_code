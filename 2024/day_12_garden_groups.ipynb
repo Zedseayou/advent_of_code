{
 "cells": [
  {
   "cell_type": "code",
   "execution_count": 1,
   "metadata": {},
   "outputs": [],
   "source": [
    "from tqdm.notebook import tqdm\n",
    "from collections import Counter"
   ]
  },
  {
   "cell_type": "code",
   "execution_count": 2,
   "metadata": {},
   "outputs": [],
   "source": [
    "def read_input(path):\n",
    "    with open(path) as file:\n",
    "        lines = [[d for d in line.strip()] for line in file]\n",
    "    return lines"
   ]
  },
  {
   "cell_type": "code",
   "execution_count": null,
   "metadata": {},
   "outputs": [
    {
     "data": {
      "text/plain": [
       "[['R', 'R', 'R', 'R', 'I', 'I', 'C', 'C', 'F', 'F'],\n",
       " ['R', 'R', 'R', 'R', 'I', 'I', 'C', 'C', 'C', 'F'],\n",
       " ['V', 'V', 'R', 'R', 'R', 'C', 'C', 'F', 'F', 'F'],\n",
       " ['V', 'V', 'R', 'C', 'C', 'C', 'J', 'F', 'F', 'F'],\n",
       " ['V', 'V', 'V', 'V', 'C', 'J', 'J', 'C', 'F', 'E'],\n",
       " ['V', 'V', 'I', 'V', 'C', 'C', 'J', 'J', 'E', 'E'],\n",
       " ['V', 'V', 'I', 'I', 'I', 'C', 'J', 'J', 'E', 'E'],\n",
       " ['M', 'I', 'I', 'I', 'I', 'I', 'J', 'J', 'E', 'E'],\n",
       " ['M', 'I', 'I', 'I', 'S', 'I', 'J', 'E', 'E', 'E'],\n",
       " ['M', 'M', 'M', 'I', 'S', 'S', 'J', 'E', 'E', 'E']]"
      ]
     },
     "execution_count": 3,
     "metadata": {},
     "output_type": "execute_result"
    }
   ],
   "source": [
    "test = read_input(\"test/test_12.txt\")\n",
    "test"
   ]
  },
  {
   "cell_type": "code",
   "execution_count": 4,
   "metadata": {},
   "outputs": [],
   "source": [
    "input = read_input(\"input/input_12.txt\")"
   ]
  },
  {
   "cell_type": "code",
   "execution_count": 5,
   "metadata": {},
   "outputs": [],
   "source": [
    "def neighbours(location, len_x, len_y):\n",
    "    x, y = location\n",
    "    north = (x, y - 1) if y > 0 else None\n",
    "    east = (x + 1, y) if x < (len_x - 1) else None\n",
    "    south = (x, y + 1) if y < (len_y - 1) else None\n",
    "    west = (x - 1, y) if x > 0 else None\n",
    "    return [north, east, south, west]"
   ]
  },
  {
   "cell_type": "code",
   "execution_count": 6,
   "metadata": {},
   "outputs": [],
   "source": [
    "def fence_region(plot, farm_map):\n",
    "    \n",
    "    crop = farm_map[plot[1]][plot[0]]\n",
    "    visited = []\n",
    "    to_visit = [tuple(plot)]\n",
    "    perimeter = 0\n",
    "\n",
    "    while len(to_visit) > 0:\n",
    "        current_plot = to_visit.pop()\n",
    "        plot_neighbours = neighbours(current_plot, len(farm_map[0]), len(farm_map))\n",
    "        for n in plot_neighbours:\n",
    "            pass\n",
    "            if n is None: # edge of map\n",
    "                perimeter += 1\n",
    "            elif n in visited:\n",
    "                continue\n",
    "            elif farm_map[n[1]][n[0]] == crop:\n",
    "                if n not in to_visit:\n",
    "                    to_visit.append(n)\n",
    "            else: # different crop square\n",
    "                perimeter +=1\n",
    "        visited.append(current_plot)\n",
    "\n",
    "    return visited, perimeter, crop"
   ]
  },
  {
   "cell_type": "code",
   "execution_count": 7,
   "metadata": {},
   "outputs": [],
   "source": [
    "def q12a(farm_map):\n",
    "\n",
    "    visited = []\n",
    "    price = 0\n",
    "\n",
    "    for y, row in enumerate(farm_map):\n",
    "        for x, plot in enumerate(row):\n",
    "            if (x, y) not in visited:\n",
    "                region, perimeter, crop = fence_region((x, y), farm_map)\n",
    "                visited.extend(region)\n",
    "                price += len(region) * perimeter\n",
    "    \n",
    "    return price"
   ]
  },
  {
   "cell_type": "code",
   "execution_count": 8,
   "metadata": {},
   "outputs": [
    {
     "data": {
      "text/plain": [
       "1930"
      ]
     },
     "execution_count": 8,
     "metadata": {},
     "output_type": "execute_result"
    }
   ],
   "source": [
    "q12a(test)"
   ]
  },
  {
   "cell_type": "code",
   "execution_count": 9,
   "metadata": {},
   "outputs": [
    {
     "data": {
      "text/plain": [
       "1471452"
      ]
     },
     "execution_count": 9,
     "metadata": {},
     "output_type": "execute_result"
    }
   ],
   "source": [
    "q12a(input)"
   ]
  },
  {
   "cell_type": "code",
   "execution_count": 19,
   "metadata": {},
   "outputs": [],
   "source": [
    "def get_crop(location, farm_map):\n",
    "    if location is None:\n",
    "        return \"\"\n",
    "    else:\n",
    "        return farm_map[location[1]][location[0]]"
   ]
  },
  {
   "cell_type": "code",
   "execution_count": 21,
   "metadata": {},
   "outputs": [],
   "source": [
    "def count_corners(location, farm_map):\n",
    "    len_x, len_y = len(farm_map[0]), len(farm_map)\n",
    "    crop = get_crop(location, farm_map)\n",
    "    x, y = location\n",
    "    n, e, s, w = neighbours(location, len_x, len_y)\n",
    "    ne = (x + 1, y - 1) if x < (len_x - 1) and y > 0 else None\n",
    "    se = (x + 1, y + 1) if x < (len_x - 1) and y < (len_y - 1) else None\n",
    "    sw = (x - 1, y + 1) if x > 0 and y < (len_y - 1) else None\n",
    "    nw = (x - 1, y - 1) if x > 0 and y > 0 else None\n",
    "    corners = 0\n",
    "    #convex corners\n",
    "    if get_crop(n, farm_map) != crop and get_crop(w, farm_map) != crop: corners += 1\n",
    "    if get_crop(n, farm_map) != crop and get_crop(e, farm_map) != crop: corners += 1\n",
    "    if get_crop(s, farm_map) != crop and get_crop(w, farm_map) != crop: corners += 1\n",
    "    if get_crop(s, farm_map) != crop and get_crop(e, farm_map) != crop: corners += 1\n",
    "        \n",
    "    # concave corners\n",
    "    if get_crop(n, farm_map) == crop and get_crop(w, farm_map) == crop and get_crop(nw, farm_map) != crop: corners += 1\n",
    "    if get_crop(n, farm_map) == crop and get_crop(e, farm_map) == crop and get_crop(ne, farm_map) != crop: corners += 1\n",
    "    if get_crop(s, farm_map) == crop and get_crop(w, farm_map) == crop and get_crop(sw, farm_map) != crop: corners += 1\n",
    "    if get_crop(s, farm_map) == crop and get_crop(e, farm_map) == crop and get_crop(se, farm_map) != crop: corners += 1\n",
    "\n",
    "    return corners"
   ]
  },
  {
   "cell_type": "code",
   "execution_count": 29,
   "metadata": {},
   "outputs": [
    {
     "data": {
      "text/plain": [
       "([(0, 2),\n",
       "  (0, 3),\n",
       "  (0, 4),\n",
       "  (0, 5),\n",
       "  (0, 6),\n",
       "  (1, 6),\n",
       "  (1, 5),\n",
       "  (1, 4),\n",
       "  (2, 4),\n",
       "  (3, 4),\n",
       "  (3, 5),\n",
       "  (1, 3),\n",
       "  (1, 2)],\n",
       " 10,\n",
       " 'V')"
      ]
     },
     "execution_count": 29,
     "metadata": {},
     "output_type": "execute_result"
    }
   ],
   "source": [
    "def sides_region(plot, farm_map):\n",
    "    \n",
    "    crop = get_crop(plot, farm_map)\n",
    "    visited = []\n",
    "    to_visit = [tuple(plot)]\n",
    "    sides = 0\n",
    "\n",
    "    while len(to_visit) > 0:\n",
    "        current_plot = to_visit.pop()\n",
    "        plot_neighbours = neighbours(current_plot, len(farm_map[0]), len(farm_map))\n",
    "        for n in plot_neighbours:\n",
    "            if n in visited:\n",
    "                continue\n",
    "            elif get_crop(n, farm_map) == crop:\n",
    "                if n not in to_visit:\n",
    "                    to_visit.append(n)\n",
    "        sides += count_corners(current_plot, farm_map)\n",
    "        visited.append(current_plot)\n",
    "\n",
    "    return visited, sides, crop\n",
    "sides_region((0, 2), test)"
   ]
  },
  {
   "cell_type": "code",
   "execution_count": 30,
   "metadata": {},
   "outputs": [
    {
     "data": {
      "text/plain": [
       "1206"
      ]
     },
     "execution_count": 30,
     "metadata": {},
     "output_type": "execute_result"
    }
   ],
   "source": [
    "def q12b(farm_map):\n",
    "\n",
    "    visited = []\n",
    "    price = 0\n",
    "\n",
    "    for y, row in enumerate(farm_map):\n",
    "        for x, plot in enumerate(row):\n",
    "            if (x, y) not in visited:\n",
    "                region, sides, crop = sides_region((x, y), farm_map)\n",
    "                visited.extend(region)\n",
    "                price += len(region) * sides\n",
    "    \n",
    "    return price\n",
    "q12b(test)"
   ]
  },
  {
   "cell_type": "code",
   "execution_count": 32,
   "metadata": {},
   "outputs": [
    {
     "data": {
      "text/plain": [
       "863366"
      ]
     },
     "execution_count": 32,
     "metadata": {},
     "output_type": "execute_result"
    }
   ],
   "source": [
    "q12b(input)"
   ]
  }
 ],
 "metadata": {
  "kernelspec": {
   "display_name": ".venv",
   "language": "python",
   "name": "python3"
  },
  "language_info": {
   "codemirror_mode": {
    "name": "ipython",
    "version": 3
   },
   "file_extension": ".py",
   "mimetype": "text/x-python",
   "name": "python",
   "nbconvert_exporter": "python",
   "pygments_lexer": "ipython3",
   "version": "3.13.0"
  }
 },
 "nbformat": 4,
 "nbformat_minor": 2
}
