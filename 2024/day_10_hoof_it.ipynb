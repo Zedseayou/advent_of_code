{
 "cells": [
  {
   "cell_type": "code",
   "execution_count": 1,
   "metadata": {},
   "outputs": [],
   "source": [
    "from tqdm.notebook import tqdm"
   ]
  },
  {
   "cell_type": "code",
   "execution_count": 18,
   "metadata": {},
   "outputs": [],
   "source": [
    "def read_input(path):\n",
    "    with open(path) as file:\n",
    "        lines = [[int(d) for d in line.strip()] for line in file]\n",
    "    return lines"
   ]
  },
  {
   "cell_type": "code",
   "execution_count": 19,
   "metadata": {},
   "outputs": [
    {
     "data": {
      "text/plain": [
       "[[8, 9, 0, 1, 0, 1, 2, 3],\n",
       " [7, 8, 1, 2, 1, 8, 7, 4],\n",
       " [8, 7, 4, 3, 0, 9, 6, 5],\n",
       " [9, 6, 5, 4, 9, 8, 7, 4],\n",
       " [4, 5, 6, 7, 8, 9, 0, 3],\n",
       " [3, 2, 0, 1, 9, 0, 1, 2],\n",
       " [0, 1, 3, 2, 9, 8, 0, 1],\n",
       " [1, 0, 4, 5, 6, 7, 3, 2]]"
      ]
     },
     "execution_count": 19,
     "metadata": {},
     "output_type": "execute_result"
    }
   ],
   "source": [
    "test = read_input(\"test/test_10.txt\")\n",
    "test"
   ]
  },
  {
   "cell_type": "code",
   "execution_count": 33,
   "metadata": {},
   "outputs": [],
   "source": [
    "input = read_input(\"input/input_10.txt\")"
   ]
  },
  {
   "cell_type": "code",
   "execution_count": 12,
   "metadata": {},
   "outputs": [
    {
     "data": {
      "text/plain": [
       "4"
      ]
     },
     "execution_count": 12,
     "metadata": {},
     "output_type": "execute_result"
    }
   ],
   "source": [
    "list(range(5))[4]"
   ]
  },
  {
   "cell_type": "code",
   "execution_count": 16,
   "metadata": {},
   "outputs": [
    {
     "data": {
      "text/plain": [
       "[(3, 0), (2, 1), (1, 0)]"
      ]
     },
     "execution_count": 16,
     "metadata": {},
     "output_type": "execute_result"
    }
   ],
   "source": [
    "def neighbours(location, len_x, len_y):\n",
    "    x, y = location\n",
    "    north = (x, y - 1) if y > 0 else None\n",
    "    east = (x + 1, y) if x < (len_x - 1) else None\n",
    "    south = (x, y + 1) if y < (len_y - 1) else None\n",
    "    west = (x - 1, y) if x > 0 else None\n",
    "    return [n for n in [north, east, south, west] if n is not None]\n",
    "\n",
    "neighbours((2, 0), 8, 8)"
   ]
  },
  {
   "cell_type": "code",
   "execution_count": 25,
   "metadata": {},
   "outputs": [
    {
     "data": {
      "text/plain": [
       "6"
      ]
     },
     "execution_count": 25,
     "metadata": {},
     "output_type": "execute_result"
    }
   ],
   "source": [
    "def score_trailhead(trailhead, hiking_map):\n",
    "    map_dim_x = len(hiking_map[0])\n",
    "    map_dim_y = len(hiking_map)\n",
    "\n",
    "    trail_ends = [trailhead]\n",
    "    for h in range(1, 10):\n",
    "        next_tiles = []\n",
    "        for t in trail_ends:\n",
    "           tile_candidates = neighbours(t, map_dim_x, map_dim_y)\n",
    "           next_tiles.extend([tc for tc in tile_candidates if hiking_map[tc[1]][tc[0]] == h]) # only go to neighbours of the right level\n",
    "        trail_ends = list(set(next_tiles))\n",
    "    \n",
    "    return len(trail_ends)\n",
    "\n",
    "score_trailhead([4, 0], test)"
   ]
  },
  {
   "cell_type": "code",
   "execution_count": 30,
   "metadata": {},
   "outputs": [],
   "source": [
    "def q10a(hiking_map):\n",
    "    # trailheads = []\n",
    "    # for y, row in enumerate(hiking_map):\n",
    "    #     for x, tile in enumerate(row):\n",
    "    #         if tile == 0:\n",
    "    #             trailheads.append((x, y))\n",
    "    trailheads = [(x, y) for y, row in enumerate(hiking_map) for x, tile in enumerate(row) if tile == 0]\n",
    "    trail_scores = [score_trailhead(t, hiking_map) for t in trailheads]\n",
    "    \n",
    "    return sum(trail_scores)"
   ]
  },
  {
   "cell_type": "code",
   "execution_count": 31,
   "metadata": {},
   "outputs": [
    {
     "data": {
      "text/plain": [
       "36"
      ]
     },
     "execution_count": 31,
     "metadata": {},
     "output_type": "execute_result"
    }
   ],
   "source": [
    "q10a(test)"
   ]
  },
  {
   "cell_type": "code",
   "execution_count": 34,
   "metadata": {},
   "outputs": [
    {
     "data": {
      "text/plain": [
       "538"
      ]
     },
     "execution_count": 34,
     "metadata": {},
     "output_type": "execute_result"
    }
   ],
   "source": [
    "q10a(input)"
   ]
  },
  {
   "cell_type": "code",
   "execution_count": 42,
   "metadata": {},
   "outputs": [
    {
     "data": {
      "text/plain": [
       "4"
      ]
     },
     "execution_count": 42,
     "metadata": {},
     "output_type": "execute_result"
    }
   ],
   "source": [
    "def rate_trailhead(trailhead, hiking_map):\n",
    "    map_dim_x = len(hiking_map[0])\n",
    "    map_dim_y = len(hiking_map)\n",
    "\n",
    "    trails = [[trailhead]]\n",
    "    for h in range(1, 10):\n",
    "        new_trails = []\n",
    "        for t in trails:\n",
    "           tile_candidates = neighbours(t[-1], map_dim_x, map_dim_y) # get neighbours of the last stop on the trail\n",
    "           next_tiles = [tc for tc in tile_candidates if hiking_map[tc[1]][tc[0]] == h] # only go to neighbours of the right level\n",
    "           new_trails += [t + [next_tile] for next_tile in next_tiles] # add each neighbour to the trail it came from and add those to the new set of trails\n",
    "        trails = new_trails\n",
    "        \n",
    "    \n",
    "    return len(trails)\n",
    "\n",
    "rate_trailhead([6, 4], test)"
   ]
  },
  {
   "cell_type": "code",
   "execution_count": 43,
   "metadata": {},
   "outputs": [],
   "source": [
    "def q10b(hiking_map):\n",
    "    trailheads = [(x, y) for y, row in enumerate(hiking_map) for x, tile in enumerate(row) if tile == 0]\n",
    "    trail_scores = [rate_trailhead(t, hiking_map) for t in trailheads]\n",
    "    \n",
    "    return sum(trail_scores)"
   ]
  },
  {
   "cell_type": "code",
   "execution_count": 44,
   "metadata": {},
   "outputs": [
    {
     "data": {
      "text/plain": [
       "81"
      ]
     },
     "execution_count": 44,
     "metadata": {},
     "output_type": "execute_result"
    }
   ],
   "source": [
    "q10b(test)"
   ]
  },
  {
   "cell_type": "code",
   "execution_count": 45,
   "metadata": {},
   "outputs": [
    {
     "data": {
      "text/plain": [
       "1110"
      ]
     },
     "execution_count": 45,
     "metadata": {},
     "output_type": "execute_result"
    }
   ],
   "source": [
    "q10b(input)"
   ]
  }
 ],
 "metadata": {
  "kernelspec": {
   "display_name": ".venv",
   "language": "python",
   "name": "python3"
  },
  "language_info": {
   "codemirror_mode": {
    "name": "ipython",
    "version": 3
   },
   "file_extension": ".py",
   "mimetype": "text/x-python",
   "name": "python",
   "nbconvert_exporter": "python",
   "pygments_lexer": "ipython3",
   "version": "3.13.0"
  }
 },
 "nbformat": 4,
 "nbformat_minor": 2
}
