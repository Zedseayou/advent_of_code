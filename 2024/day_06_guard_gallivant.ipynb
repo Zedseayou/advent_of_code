{
 "cells": [
  {
   "cell_type": "code",
   "execution_count": null,
   "metadata": {},
   "outputs": [],
   "source": [
    "import copy\n",
    "from tqdm.notebook import tqdm"
   ]
  },
  {
   "cell_type": "code",
   "execution_count": 2,
   "metadata": {},
   "outputs": [],
   "source": [
    "def read_input(path):\n",
    "    with open(path) as file:\n",
    "        lines = [[letter for letter in line.strip()]  for line in file]\n",
    "    return lines"
   ]
  },
  {
   "cell_type": "code",
   "execution_count": 3,
   "metadata": {},
   "outputs": [
    {
     "data": {
      "text/plain": [
       "[['.', '.', '.', '.', '#', '.', '.', '.', '.', '.'],\n",
       " ['.', '.', '.', '.', '.', '.', '.', '.', '.', '#'],\n",
       " ['.', '.', '.', '.', '.', '.', '.', '.', '.', '.'],\n",
       " ['.', '.', '#', '.', '.', '.', '.', '.', '.', '.'],\n",
       " ['.', '.', '.', '.', '.', '.', '.', '#', '.', '.'],\n",
       " ['.', '.', '.', '.', '.', '.', '.', '.', '.', '.'],\n",
       " ['.', '#', '.', '.', '^', '.', '.', '.', '.', '.'],\n",
       " ['.', '.', '.', '.', '.', '.', '.', '.', '#', '.'],\n",
       " ['#', '.', '.', '.', '.', '.', '.', '.', '.', '.'],\n",
       " ['.', '.', '.', '.', '.', '.', '#', '.', '.', '.']]"
      ]
     },
     "execution_count": 3,
     "metadata": {},
     "output_type": "execute_result"
    }
   ],
   "source": [
    "test = read_input(\"test/test_06.txt\")\n",
    "test"
   ]
  },
  {
   "cell_type": "code",
   "execution_count": 4,
   "metadata": {},
   "outputs": [],
   "source": [
    "input = read_input(\"input/input_06.txt\")"
   ]
  },
  {
   "cell_type": "code",
   "execution_count": 5,
   "metadata": {},
   "outputs": [],
   "source": [
    "def next_yx(yx, direction):\n",
    "    nyx = yx.copy()\n",
    "    if direction == \"N\":\n",
    "        nyx[0] -= 1\n",
    "    elif direction == \"S\":\n",
    "        nyx[0] += 1\n",
    "    elif direction == \"E\":\n",
    "        nyx[1] +=1\n",
    "    elif direction == \"W\":\n",
    "        nyx[1] -= 1\n",
    "    return nyx\n",
    "    \n",
    "dirs = {\n",
    "    \"N\": \"E\",\n",
    "    \"E\": \"S\",\n",
    "    \"S\": \"W\",\n",
    "    \"W\": \"N\"\n",
    "}"
   ]
  },
  {
   "cell_type": "code",
   "execution_count": 6,
   "metadata": {},
   "outputs": [],
   "source": [
    "def q6a(grid_raw):\n",
    "    grid = copy.deepcopy(grid_raw)\n",
    "    direction = \"N\"\n",
    "\n",
    "    for y, row in enumerate(grid):\n",
    "        try:\n",
    "            yx = [y, row.index(\"^\")] # assumed only 1 start location and facing up\n",
    "        except ValueError:\n",
    "            pass\n",
    "    while True:\n",
    "        target = None\n",
    "        while target not in (\".\", \"X\"):\n",
    "            nyx = next_yx(yx, direction) # choose possible next location\n",
    "            if nyx[0] not in range(len(grid)) or nyx[1] not in range(len(grid)):\n",
    "                grid[yx[0]][yx[1]] = \"X\"\n",
    "                break\n",
    "            target = grid[nyx[0]][nyx[1]]\n",
    "            if target == \"#\":\n",
    "                direction = dirs[direction]\n",
    "        else: # only executed if inner loop did NOT break\n",
    "            grid[yx[0]][yx[1]] = \"X\" # current location mark as passed\n",
    "            yx = nyx # move to next location\n",
    "            continue\n",
    "        break # only executed if inner loop DID break\n",
    "\n",
    "    return sum([row.count(\"X\") for row in grid])"
   ]
  },
  {
   "cell_type": "code",
   "execution_count": 7,
   "metadata": {},
   "outputs": [
    {
     "data": {
      "text/plain": [
       "41"
      ]
     },
     "execution_count": 7,
     "metadata": {},
     "output_type": "execute_result"
    }
   ],
   "source": [
    "q6a(test)"
   ]
  },
  {
   "cell_type": "code",
   "execution_count": 8,
   "metadata": {},
   "outputs": [
    {
     "data": {
      "text/plain": [
       "5404"
      ]
     },
     "execution_count": 8,
     "metadata": {},
     "output_type": "execute_result"
    }
   ],
   "source": [
    "q6a(input)"
   ]
  },
  {
   "cell_type": "code",
   "execution_count": 27,
   "metadata": {},
   "outputs": [],
   "source": [
    "def guard_patrol(grid_raw):\n",
    "    grid = copy.deepcopy(grid_raw)\n",
    "    direction = \"N\"\n",
    "    locations = []\n",
    "    for y, row in enumerate(grid): # find start location\n",
    "        try:\n",
    "            yx = [y, row.index(\"^\")] # assumed only 1 start location and facing up\n",
    "        except ValueError:\n",
    "            pass\n",
    "    \n",
    "    for i in range(100000):\n",
    "        target = None\n",
    "        while target not in (\".\", \"X\"):\n",
    "            nyx = next_yx(yx, direction) # choose possible next location\n",
    "            if nyx[0] not in range(len(grid)) or nyx[1] not in range(len(grid)): # exit for out of range\n",
    "                grid[yx[0]][yx[1]] = \"X\"\n",
    "                stop_reason = \"exit\"\n",
    "                break\n",
    "            target = grid[nyx[0]][nyx[1]]\n",
    "            if target == \"#\":\n",
    "                direction = dirs[direction]\n",
    "        else: # only executed if inner loop did NOT break\n",
    "            grid[yx[0]][yx[1]] = \"X\" # current location mark as passed\n",
    "            if [yx[0], yx[1], direction] in locations:\n",
    "                stop_reason = \"loop\"\n",
    "                break\n",
    "            locations.append([yx[0], yx[1], direction])\n",
    "            yx = nyx # move to next location\n",
    "            continue\n",
    "        break # only executed if inner loop DID break\n",
    "    return stop_reason"
   ]
  },
  {
   "cell_type": "code",
   "execution_count": 13,
   "metadata": {},
   "outputs": [
    {
     "data": {
      "text/plain": [
       "'left area'"
      ]
     },
     "execution_count": 13,
     "metadata": {},
     "output_type": "execute_result"
    }
   ],
   "source": [
    "guard_patrol(test)"
   ]
  },
  {
   "cell_type": "code",
   "execution_count": 14,
   "metadata": {},
   "outputs": [
    {
     "data": {
      "text/plain": [
       "'loop'"
      ]
     },
     "execution_count": 14,
     "metadata": {},
     "output_type": "execute_result"
    }
   ],
   "source": [
    "test2 = copy.deepcopy(test)\n",
    "test2[6][3] = \"#\"\n",
    "guard_patrol(test2)"
   ]
  },
  {
   "cell_type": "code",
   "execution_count": 35,
   "metadata": {},
   "outputs": [],
   "source": [
    "def q6b(grid_raw):\n",
    "    stop_reasons = []\n",
    "\n",
    "    for y, row in tqdm(enumerate(grid_raw)):\n",
    "        for x, location in enumerate(row):\n",
    "            if location == \".\":\n",
    "                grid = copy.deepcopy(grid_raw)\n",
    "                grid[y][x] = \"#\"\n",
    "                stop_reason = guard_patrol(grid)\n",
    "                stop_reasons.append(stop_reason)\n",
    "    return stop_reasons.count('loop')"
   ]
  },
  {
   "cell_type": "code",
   "execution_count": 38,
   "metadata": {},
   "outputs": [
    {
     "name": "stderr",
     "output_type": "stream",
     "text": [
      "10it [00:00, 1131.42it/s]\n"
     ]
    },
    {
     "data": {
      "text/plain": [
       "6"
      ]
     },
     "execution_count": 38,
     "metadata": {},
     "output_type": "execute_result"
    }
   ],
   "source": [
    "q6b(test)"
   ]
  },
  {
   "cell_type": "code",
   "execution_count": 39,
   "metadata": {},
   "outputs": [
    {
     "name": "stderr",
     "output_type": "stream",
     "text": [
      "130it [1:08:04, 31.42s/it]\n"
     ]
    },
    {
     "data": {
      "text/plain": [
       "1984"
      ]
     },
     "execution_count": 39,
     "metadata": {},
     "output_type": "execute_result"
    }
   ],
   "source": [
    "q6b(input)"
   ]
  }
 ],
 "metadata": {
  "kernelspec": {
   "display_name": ".venv",
   "language": "python",
   "name": "python3"
  },
  "language_info": {
   "codemirror_mode": {
    "name": "ipython",
    "version": 3
   },
   "file_extension": ".py",
   "mimetype": "text/x-python",
   "name": "python",
   "nbconvert_exporter": "python",
   "pygments_lexer": "ipython3",
   "version": "3.13.0"
  }
 },
 "nbformat": 4,
 "nbformat_minor": 2
}
