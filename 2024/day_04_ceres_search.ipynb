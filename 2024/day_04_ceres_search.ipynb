{
 "cells": [
  {
   "cell_type": "code",
   "execution_count": 86,
   "metadata": {},
   "outputs": [],
   "source": [
    "import numpy as np"
   ]
  },
  {
   "cell_type": "code",
   "execution_count": null,
   "metadata": {},
   "outputs": [],
   "source": [
    "def read_input(path):\n",
    "    with open(path) as file:\n",
    "        lines = [[letter for letter in line.strip()]  for line in file]\n",
    "    return lines"
   ]
  },
  {
   "cell_type": "code",
   "execution_count": null,
   "metadata": {},
   "outputs": [
    {
     "data": {
      "text/plain": [
       "[['M', 'M', 'M', 'S', 'X', 'X', 'M', 'A', 'S', 'M'],\n",
       " ['M', 'S', 'A', 'M', 'X', 'M', 'S', 'M', 'S', 'A'],\n",
       " ['A', 'M', 'X', 'S', 'X', 'M', 'A', 'A', 'M', 'M'],\n",
       " ['M', 'S', 'A', 'M', 'A', 'S', 'M', 'S', 'M', 'X'],\n",
       " ['X', 'M', 'A', 'S', 'A', 'M', 'X', 'A', 'M', 'M'],\n",
       " ['X', 'X', 'A', 'M', 'M', 'X', 'X', 'A', 'M', 'A'],\n",
       " ['S', 'M', 'S', 'M', 'S', 'A', 'S', 'X', 'S', 'S'],\n",
       " ['S', 'A', 'X', 'A', 'M', 'A', 'S', 'A', 'A', 'A'],\n",
       " ['M', 'A', 'M', 'M', 'M', 'X', 'M', 'M', 'M', 'M'],\n",
       " ['M', 'X', 'M', 'X', 'A', 'X', 'M', 'A', 'S', 'X']]"
      ]
     },
     "execution_count": 29,
     "metadata": {},
     "output_type": "execute_result"
    }
   ],
   "source": [
    "test = read_input(\"test/test_04.txt\")\n",
    "test"
   ]
  },
  {
   "cell_type": "code",
   "execution_count": 6,
   "metadata": {},
   "outputs": [],
   "source": [
    "input = read_input(\"input/input_04.txt\")"
   ]
  },
  {
   "cell_type": "code",
   "execution_count": 23,
   "metadata": {},
   "outputs": [
    {
     "data": {
      "text/plain": [
       "False"
      ]
     },
     "execution_count": 23,
     "metadata": {},
     "output_type": "execute_result"
    }
   ],
   "source": [
    "list(test.flat[[5, 7, 9, 11]]) == ['X', 'M', 'A', 'S']"
   ]
  },
  {
   "cell_type": "code",
   "execution_count": null,
   "metadata": {},
   "outputs": [],
   "source": [
    "test"
   ]
  },
  {
   "cell_type": "code",
   "execution_count": null,
   "metadata": {},
   "outputs": [],
   "source": [
    "def diagonal(grid, offset=0, ascending=False):\n",
    "    diag = []\n",
    "    if ascending:\n",
    "        for i, row in enumerate(grid[::-1]):\n",
    "            if i + offset >= 0:\n",
    "                try:\n",
    "                    diag.append(row[i + offset])\n",
    "                except IndexError:\n",
    "                    continue\n",
    "    else:\n",
    "        for i, row in enumerate(grid):\n",
    "            if i + offset >= 0:\n",
    "                try:\n",
    "                    diag.append(row[i + offset])\n",
    "                except IndexError:\n",
    "                    continue\n",
    "    return diag"
   ]
  },
  {
   "cell_type": "code",
   "execution_count": 93,
   "metadata": {},
   "outputs": [
    {
     "data": {
      "text/plain": [
       "['A', 'M', 'A', 'S', 'X', 'A', 'M', 'X', 'M', 'M']"
      ]
     },
     "execution_count": 93,
     "metadata": {},
     "output_type": "execute_result"
    }
   ],
   "source": [
    "diagonal(test, -3, ascending=True)"
   ]
  },
  {
   "cell_type": "code",
   "execution_count": 50,
   "metadata": {},
   "outputs": [
    {
     "ename": "IndexError",
     "evalue": "list index out of range",
     "output_type": "error",
     "traceback": [
      "\u001b[0;31m---------------------------------------------------------------------------\u001b[0m",
      "\u001b[0;31mIndexError\u001b[0m                                Traceback (most recent call last)",
      "Cell \u001b[0;32mIn[50], line 1\u001b[0m\n\u001b[0;32m----> 1\u001b[0m \u001b[43mtest\u001b[49m\u001b[43m[\u001b[49m\u001b[38;5;241;43m0\u001b[39;49m\u001b[43m]\u001b[49m\u001b[43m[\u001b[49m\u001b[38;5;241;43m10\u001b[39;49m\u001b[43m]\u001b[49m\n",
      "\u001b[0;31mIndexError\u001b[0m: list index out of range"
     ]
    }
   ],
   "source": [
    "test[0][10]"
   ]
  },
  {
   "cell_type": "code",
   "execution_count": null,
   "metadata": {},
   "outputs": [],
   "source": [
    "def q4a(grid):\n",
    "    n_xmas = 0\n",
    "    grid_ceil = lambda x, grid: min(x, len(grid))\n",
    "    grid_floor = lambda x, grid: max(x, 0)\n",
    "\n",
    "    for i, letter in enumerate(grid.flat):\n",
    "        if letter == \"X\":\n",
    "            if \"\".join(grid.flat[i:i+4]) == 'XMAS':\n",
    "                n_xmas += 1\n",
    "            \n",
    "    return n_xmas"
   ]
  },
  {
   "cell_type": "code",
   "execution_count": 31,
   "metadata": {},
   "outputs": [
    {
     "ename": "IndexError",
     "evalue": "list index out of range",
     "output_type": "error",
     "traceback": [
      "\u001b[0;31m---------------------------------------------------------------------------\u001b[0m",
      "\u001b[0;31mIndexError\u001b[0m                                Traceback (most recent call last)",
      "Cell \u001b[0;32mIn[31], line 1\u001b[0m\n\u001b[0;32m----> 1\u001b[0m \u001b[43mtest\u001b[49m\u001b[43m[\u001b[49m\u001b[38;5;241;43m10\u001b[39;49m\u001b[43m]\u001b[49m\n",
      "\u001b[0;31mIndexError\u001b[0m: list index out of range"
     ]
    }
   ],
   "source": [
    "test[10]"
   ]
  },
  {
   "cell_type": "code",
   "execution_count": 34,
   "metadata": {},
   "outputs": [],
   "source": [
    "def q4a(grid):\n",
    "    n_xmas = 0\n",
    "    ub = lambda x: min(x, len(grid) - 1)\n",
    "    lb = lambda x: max(x, 0)\n",
    "    for y, row in enumerate(grid):\n",
    "        for x, letter in enumerate(row):\n",
    "            if letter == \"X\":\n",
    "                if [grid[y][ub(x+1)], grid[y][ub(x+2)], grid[y][ub(x+3)]] == ['M', 'A', 'S']:\n",
    "                    n_xmas += 1\n",
    "                if [grid[y][lb(x-1)], grid[y][ub(x-2)], grid[y][ub(x-3)]] == ['M', 'A', 'S']:\n",
    "                    n_xmas += 1\n",
    "                if [grid[ub(y+1)][x], grid[ub(y+2)][x], grid[ub(y+3)][x]] == ['M', 'A', 'S']:\n",
    "                    n_xmas += 1\n",
    "                if [grid[lb(y-1)][x], grid[lb(y-2)][x], grid[lb(y-3)][x]] == ['M', 'A', 'S']:\n",
    "                    n_xmas += 1\n",
    "                if [grid[ub(y+1)][ub(x+1)], grid[ub(y+2)][ub(x+2)], grid[ub(y+3)][ub(x+3)]] == ['M', 'A', 'S']:\n",
    "                    n_xmas += 1\n",
    "                if [grid[ub(y+1)][lb(x-1)], grid[ub(y+2)][lb(x-2)], grid[ub(y+3)][lb(x-3)]] == ['M', 'A', 'S']:\n",
    "                    n_xmas += 1\n",
    "                if [grid[lb(y-1)][ub(x+1)], grid[lb(y-2)][ub(x+2)], grid[lb(y-3)][ub(x+3)]] == ['M', 'A', 'S']:\n",
    "                    n_xmas += 1\n",
    "                if [grid[lb(y-1)][lb(x-1)], grid[lb(y-2)][lb(x-2)], grid[lb(y-3)][lb(x-3)]] == ['M', 'A', 'S']:\n",
    "                    n_xmas += 1\n",
    "    return n_xmas"
   ]
  },
  {
   "cell_type": "code",
   "execution_count": 35,
   "metadata": {},
   "outputs": [
    {
     "data": {
      "text/plain": [
       "23"
      ]
     },
     "execution_count": 35,
     "metadata": {},
     "output_type": "execute_result"
    }
   ],
   "source": [
    "q4a(test)"
   ]
  },
  {
   "cell_type": "code",
   "execution_count": 23,
   "metadata": {},
   "outputs": [
    {
     "ename": "IndexError",
     "evalue": "list index out of range",
     "output_type": "error",
     "traceback": [
      "\u001b[0;31m---------------------------------------------------------------------------\u001b[0m",
      "\u001b[0;31mIndexError\u001b[0m                                Traceback (most recent call last)",
      "Cell \u001b[0;32mIn[23], line 1\u001b[0m\n\u001b[0;32m----> 1\u001b[0m \u001b[43mtest\u001b[49m\u001b[43m[\u001b[49m\u001b[38;5;241;43m11\u001b[39;49m\u001b[43m]\u001b[49m\n",
      "\u001b[0;31mIndexError\u001b[0m: list index out of range"
     ]
    }
   ],
   "source": [
    "test[11]"
   ]
  }
 ],
 "metadata": {
  "kernelspec": {
   "display_name": ".venv",
   "language": "python",
   "name": "python3"
  },
  "language_info": {
   "codemirror_mode": {
    "name": "ipython",
    "version": 3
   },
   "file_extension": ".py",
   "mimetype": "text/x-python",
   "name": "python",
   "nbconvert_exporter": "python",
   "pygments_lexer": "ipython3",
   "version": "3.13.0"
  }
 },
 "nbformat": 4,
 "nbformat_minor": 2
}
