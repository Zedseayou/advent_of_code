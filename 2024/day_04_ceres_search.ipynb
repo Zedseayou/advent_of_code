{
 "cells": [
  {
   "cell_type": "code",
   "execution_count": null,
   "metadata": {},
   "outputs": [],
   "source": [
    "import re"
   ]
  },
  {
   "cell_type": "code",
   "execution_count": null,
   "metadata": {},
   "outputs": [],
   "source": [
    "def read_input(path):\n",
    "    with open(path) as file:\n",
    "        lines = [[letter for letter in line.strip()]  for line in file]\n",
    "    return lines"
   ]
  },
  {
   "cell_type": "code",
   "execution_count": null,
   "metadata": {},
   "outputs": [
    {
     "data": {
      "text/plain": [
       "[['M', 'M', 'M', 'S', 'X', 'X', 'M', 'A', 'S', 'M'],\n",
       " ['M', 'S', 'A', 'M', 'X', 'M', 'S', 'M', 'S', 'A'],\n",
       " ['A', 'M', 'X', 'S', 'X', 'M', 'A', 'A', 'M', 'M'],\n",
       " ['M', 'S', 'A', 'M', 'A', 'S', 'M', 'S', 'M', 'X'],\n",
       " ['X', 'M', 'A', 'S', 'A', 'M', 'X', 'A', 'M', 'M'],\n",
       " ['X', 'X', 'A', 'M', 'M', 'X', 'X', 'A', 'M', 'A'],\n",
       " ['S', 'M', 'S', 'M', 'S', 'A', 'S', 'X', 'S', 'S'],\n",
       " ['S', 'A', 'X', 'A', 'M', 'A', 'S', 'A', 'A', 'A'],\n",
       " ['M', 'A', 'M', 'M', 'M', 'X', 'M', 'M', 'M', 'M'],\n",
       " ['M', 'X', 'M', 'X', 'A', 'X', 'M', 'A', 'S', 'X']]"
      ]
     },
     "execution_count": 29,
     "metadata": {},
     "output_type": "execute_result"
    }
   ],
   "source": [
    "test = read_input(\"test/test_04.txt\")\n",
    "test"
   ]
  },
  {
   "cell_type": "code",
   "execution_count": 127,
   "metadata": {},
   "outputs": [],
   "source": [
    "input = read_input(\"input/input_04.txt\")"
   ]
  },
  {
   "cell_type": "code",
   "execution_count": null,
   "metadata": {},
   "outputs": [],
   "source": [
    "def diagonal(grid, offset=0, ascending=False):\n",
    "    \"\"\"Get diagonals with offset for square grid\"\"\"\n",
    "    diag = []\n",
    "    if ascending:\n",
    "        for i, row in enumerate(grid[::-1]):\n",
    "            if i + offset >= 0 and i + offset < len(grid):\n",
    "                diag.append(row[i + offset])\n",
    "    else:\n",
    "        for i, row in enumerate(grid):\n",
    "            if i + offset >= 0 and i + offset < len(grid):\n",
    "                    diag.append(row[i + offset])\n",
    "    return diag"
   ]
  },
  {
   "cell_type": "code",
   "execution_count": null,
   "metadata": {},
   "outputs": [],
   "source": [
    "def q4a(grid):\n",
    "    grid_size = len(grid)\n",
    "    columns = [[row[i] for row in grid] for i in range(0, grid_size)]\n",
    "    diags_a = [diagonal(grid, i, True) for i in range(-grid_size, grid_size)]\n",
    "    diags_d = [diagonal(grid, i, False) for i in range(-grid_size, grid_size)]\n",
    "    search_lists = grid + columns + diags_a + diags_d\n",
    "    \n",
    "    strings = [\"\".join(sl) for sl in search_lists + [l[::-1] for l in search_lists]]\n",
    "    return sum([s.count(\"XMAS\") for s in strings])"
   ]
  },
  {
   "cell_type": "code",
   "execution_count": 125,
   "metadata": {},
   "outputs": [
    {
     "data": {
      "text/plain": [
       "18"
      ]
     },
     "execution_count": 125,
     "metadata": {},
     "output_type": "execute_result"
    }
   ],
   "source": [
    "q4a(test)"
   ]
  },
  {
   "cell_type": "code",
   "execution_count": 128,
   "metadata": {},
   "outputs": [
    {
     "data": {
      "text/plain": [
       "2583"
      ]
     },
     "execution_count": 128,
     "metadata": {},
     "output_type": "execute_result"
    }
   ],
   "source": [
    "q4a(input)"
   ]
  },
  {
   "cell_type": "code",
   "execution_count": 133,
   "metadata": {},
   "outputs": [],
   "source": [
    "def q4b(grid):\n",
    "    n_xmas = 0\n",
    "    for y, row in enumerate(grid):\n",
    "        for x, letter in enumerate(row):\n",
    "            if letter == \"A\" and x not in (0, len(grid) - 1) and y not in (0, len(grid) - 1):\n",
    "                mas_desc = (grid[y-1][x-1] == \"M\" and grid[y+1][x+1] == \"S\") or (grid[y-1][x-1] == \"S\" and grid[y+1][x+1] == \"M\")\n",
    "                mas_asc = (grid[y+1][x-1] == \"M\" and grid[y-1][x+1] == \"S\") or (grid[y+1][x-1] == \"S\" and grid[y-1][x+1] == \"M\")\n",
    "                if mas_desc and mas_asc:\n",
    "                    n_xmas +=1\n",
    "    return n_xmas"
   ]
  },
  {
   "cell_type": "code",
   "execution_count": 134,
   "metadata": {},
   "outputs": [
    {
     "data": {
      "text/plain": [
       "9"
      ]
     },
     "execution_count": 134,
     "metadata": {},
     "output_type": "execute_result"
    }
   ],
   "source": [
    "q4b(test)"
   ]
  },
  {
   "cell_type": "code",
   "execution_count": 135,
   "metadata": {},
   "outputs": [
    {
     "data": {
      "text/plain": [
       "1978"
      ]
     },
     "execution_count": 135,
     "metadata": {},
     "output_type": "execute_result"
    }
   ],
   "source": [
    "q4b(input)"
   ]
  }
 ],
 "metadata": {
  "kernelspec": {
   "display_name": ".venv",
   "language": "python",
   "name": "python3"
  },
  "language_info": {
   "codemirror_mode": {
    "name": "ipython",
    "version": 3
   },
   "file_extension": ".py",
   "mimetype": "text/x-python",
   "name": "python",
   "nbconvert_exporter": "python",
   "pygments_lexer": "ipython3",
   "version": "3.13.0"
  }
 },
 "nbformat": 4,
 "nbformat_minor": 2
}
