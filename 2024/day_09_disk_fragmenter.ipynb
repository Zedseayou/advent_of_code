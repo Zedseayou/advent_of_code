{
 "cells": [
  {
   "cell_type": "code",
   "execution_count": 188,
   "metadata": {},
   "outputs": [],
   "source": [
    "from tqdm.notebook import tqdm"
   ]
  },
  {
   "cell_type": "code",
   "execution_count": 48,
   "metadata": {},
   "outputs": [],
   "source": [
    "def read_input(path):\n",
    "    with open(path) as file:\n",
    "        digits = [int(d) for d in file.read().strip()]\n",
    "        # files = digits[::2]\n",
    "        # gaps = digits[1::2]\n",
    "    return digits"
   ]
  },
  {
   "cell_type": "code",
   "execution_count": 96,
   "metadata": {},
   "outputs": [
    {
     "data": {
      "text/plain": [
       "[2, 3, 3, 3, 1, 3, 3, 1, 2, 1, 4, 1, 4, 1, 3, 1, 4, 0, 2]"
      ]
     },
     "execution_count": 96,
     "metadata": {},
     "output_type": "execute_result"
    }
   ],
   "source": [
    "test = read_input(\"test/test_09.txt\")\n",
    "test"
   ]
  },
  {
   "cell_type": "code",
   "execution_count": 49,
   "metadata": {},
   "outputs": [],
   "source": [
    "input = read_input(\"input/input_09.txt\")"
   ]
  },
  {
   "cell_type": "code",
   "execution_count": 225,
   "metadata": {},
   "outputs": [],
   "source": [
    "def expand_disk_map(disk_map, file_ids=None):\n",
    "    blocks = []\n",
    "    if len(disk_map) % 2 == 1:\n",
    "        disk_map = disk_map + [0]\n",
    "    if file_ids is None:\n",
    "        file_ids = iter(range(len(disk_map) // 2))\n",
    "    else:\n",
    "        file_ids = iter(file_ids)\n",
    "    for i, digit in enumerate(disk_map):\n",
    "        if i % 2 == 0: # digit is a file\n",
    "            file_id = next(file_ids)\n",
    "            blocks += [file_id] * digit # fill digit blocks with file_id\n",
    "        else: # digit is blank space\n",
    "            blocks += [\".\"] * digit\n",
    "    return blocks"
   ]
  },
  {
   "cell_type": "code",
   "execution_count": 63,
   "metadata": {},
   "outputs": [],
   "source": [
    "def backfill_disk_map(blocks):\n",
    "\n",
    "    pbar = tqdm()\n",
    "    while \".\" in blocks:\n",
    "        first_gap = blocks.index(\".\")\n",
    "        last_elem = blocks.pop()\n",
    "        if isinstance(last_elem, int):\n",
    "            blocks[first_gap] = last_elem\n",
    "        pbar.update(1)\n",
    "    pbar.close()\n",
    "    return blocks\n"
   ]
  },
  {
   "cell_type": "code",
   "execution_count": 226,
   "metadata": {},
   "outputs": [],
   "source": [
    "def q9a(disk_map):\n",
    "    blocks = expand_disk_map(disk_map)\n",
    "    backfilled = backfill_disk_map(blocks)\n",
    "    checksum = sum([i * id for i, id in enumerate(backfilled)])\n",
    "    return checksum"
   ]
  },
  {
   "cell_type": "code",
   "execution_count": 227,
   "metadata": {},
   "outputs": [
    {
     "data": {
      "application/vnd.jupyter.widget-view+json": {
       "model_id": "4de2ceeac01f40399389a04912543235",
       "version_major": 2,
       "version_minor": 0
      },
      "text/plain": [
       "0it [00:00, ?it/s]"
      ]
     },
     "metadata": {},
     "output_type": "display_data"
    },
    {
     "data": {
      "text/plain": [
       "1928"
      ]
     },
     "execution_count": 227,
     "metadata": {},
     "output_type": "execute_result"
    }
   ],
   "source": [
    "q9a(test)"
   ]
  },
  {
   "cell_type": "code",
   "execution_count": 213,
   "metadata": {},
   "outputs": [
    {
     "data": {
      "application/vnd.jupyter.widget-view+json": {
       "model_id": "4fa2b1280ece44eca10d426c48bd0e74",
       "version_major": 2,
       "version_minor": 0
      },
      "text/plain": [
       "0it [00:00, ?it/s]"
      ]
     },
     "metadata": {},
     "output_type": "display_data"
    },
    {
     "data": {
      "text/plain": [
       "6401092019345"
      ]
     },
     "execution_count": 213,
     "metadata": {},
     "output_type": "execute_result"
    }
   ],
   "source": [
    "q9a(input)"
   ]
  },
  {
   "cell_type": "code",
   "execution_count": 242,
   "metadata": {},
   "outputs": [],
   "source": [
    "def q9b(disk_map):\n",
    "    files = disk_map[::2]\n",
    "    gaps = disk_map[1::2] + [0] # gaps are all after the file of the same index. pad a 0 at end\n",
    "    file_ids = list(range(len(files)))\n",
    "\n",
    "    for file_index, file_size in tqdm(reversed(list(enumerate(files)))):\n",
    "        file_origin = file_ids.index(file_index) # the actual current location of the file we are working on\n",
    "        try: # gap must be bigger than file size. only check up to gaps before the file\n",
    "            first_gap_index = next(gap_index for gap_index, gap_size in enumerate(gaps) if gap_size >= file_size and gap_index < file_origin)\n",
    "        except StopIteration:\n",
    "            # print(f\"did not reorder for {file_index}\")\n",
    "            continue\n",
    "        # print(f\"reordering for {file_index}\")\n",
    "        gaps[file_origin - 1] = gaps[file_origin - 1] + file_size + gaps[file_origin] # old file location has gaps on either side combine\n",
    "        del gaps[file_origin]\n",
    "        gaps.insert(first_gap_index, 0) # file guaranteed to be moved next to existing file so add 0 gap\n",
    "        gaps[first_gap_index + 1] -= file_size # gap to right of file reduced by file size\n",
    "        del files[file_origin]\n",
    "        files.insert(first_gap_index + 1, file_size)\n",
    "        del file_ids[file_origin]\n",
    "        file_ids.insert(first_gap_index + 1, file_index)\n",
    "    \n",
    "    new_disk_map = [val for pair in zip(files, gaps) for val in pair]\n",
    "    blocks = expand_disk_map(new_disk_map, file_ids)\n",
    "\n",
    "    checksum = 0\n",
    "    for i, block in enumerate(blocks):\n",
    "        if isinstance(block, str):\n",
    "            continue\n",
    "        else:\n",
    "            checksum += i * block\n",
    "\n",
    "    return checksum"
   ]
  },
  {
   "cell_type": "code",
   "execution_count": 243,
   "metadata": {},
   "outputs": [
    {
     "data": {
      "application/vnd.jupyter.widget-view+json": {
       "model_id": "13323b19e5ea46d69af012c7b00704ca",
       "version_major": 2,
       "version_minor": 0
      },
      "text/plain": [
       "0it [00:00, ?it/s]"
      ]
     },
     "metadata": {},
     "output_type": "display_data"
    },
    {
     "data": {
      "text/plain": [
       "2858"
      ]
     },
     "execution_count": 243,
     "metadata": {},
     "output_type": "execute_result"
    }
   ],
   "source": [
    "q9b(test)"
   ]
  },
  {
   "cell_type": "code",
   "execution_count": 244,
   "metadata": {},
   "outputs": [
    {
     "data": {
      "application/vnd.jupyter.widget-view+json": {
       "model_id": "9d1781e917d14d079d960d8df8ad2d67",
       "version_major": 2,
       "version_minor": 0
      },
      "text/plain": [
       "0it [00:00, ?it/s]"
      ]
     },
     "metadata": {},
     "output_type": "display_data"
    },
    {
     "data": {
      "text/plain": [
       "6431472344710"
      ]
     },
     "execution_count": 244,
     "metadata": {},
     "output_type": "execute_result"
    }
   ],
   "source": [
    "q9b(input)"
   ]
  }
 ],
 "metadata": {
  "kernelspec": {
   "display_name": ".venv",
   "language": "python",
   "name": "python3"
  },
  "language_info": {
   "codemirror_mode": {
    "name": "ipython",
    "version": 3
   },
   "file_extension": ".py",
   "mimetype": "text/x-python",
   "name": "python",
   "nbconvert_exporter": "python",
   "pygments_lexer": "ipython3",
   "version": "3.13.0"
  }
 },
 "nbformat": 4,
 "nbformat_minor": 2
}
