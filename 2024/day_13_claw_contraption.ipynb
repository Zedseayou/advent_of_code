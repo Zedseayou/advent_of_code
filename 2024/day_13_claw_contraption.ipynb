{
 "cells": [
  {
   "cell_type": "code",
   "execution_count": 71,
   "metadata": {},
   "outputs": [],
   "source": [
    "from tqdm.notebook import tqdm\n",
    "from fractions import Fraction\n",
    "\n",
    "import re"
   ]
  },
  {
   "cell_type": "code",
   "execution_count": 63,
   "metadata": {},
   "outputs": [],
   "source": [
    "def read_input(path):\n",
    "    with open(path) as file:\n",
    "        machines = file.read().split(\"\\n\\n\")\n",
    "        # machines = [machine.split(\"\\n\") for machine in file.read().split(\"\\n\\n\")]\n",
    "        equations = [[re.findall(r\"X(?:\\+|=)\\d+\", machine), re.findall(r\"Y(?:\\+|=)\\d+\", machine)] for machine in machines]\n",
    "        coefficients = [[[int(coef[2:]) for coef in eq] for eq in machine] for machine in equations ]\n",
    "    return coefficients"
   ]
  },
  {
   "cell_type": "code",
   "execution_count": 64,
   "metadata": {},
   "outputs": [
    {
     "data": {
      "text/plain": [
       "[[[94, 22, 8400], [34, 67, 5400]],\n",
       " [[26, 67, 12748], [66, 21, 12176]],\n",
       " [[17, 84, 7870], [86, 37, 6450]],\n",
       " [[69, 27, 18641], [23, 71, 10279]]]"
      ]
     },
     "execution_count": 64,
     "metadata": {},
     "output_type": "execute_result"
    }
   ],
   "source": [
    "test = read_input(\"test/test_13.txt\")\n",
    "test"
   ]
  },
  {
   "cell_type": "code",
   "execution_count": 65,
   "metadata": {},
   "outputs": [],
   "source": [
    "input = read_input(\"input/input_13.txt\")"
   ]
  },
  {
   "cell_type": "code",
   "execution_count": 91,
   "metadata": {},
   "outputs": [
    {
     "data": {
      "text/plain": [
       "200"
      ]
     },
     "execution_count": 91,
     "metadata": {},
     "output_type": "execute_result"
    }
   ],
   "source": [
    "def solve_machine(machine):\n",
    "    eq_A, eq_B = machine\n",
    "    eq_A = [Fraction(i, eq_A[0]) for i in eq_A]\n",
    "    eq_B = [ib - (ia * eq_B[0]) for ia, ib in zip(eq_A, eq_B)]\n",
    "    eq_B = [Fraction(i , eq_B[1]) for i in eq_B]\n",
    "    eq_A = [ia - (ib * eq_A[1]) for ia, ib in zip(eq_A, eq_B)]\n",
    "\n",
    "    if eq_A[2].is_integer() and eq_B[2].is_integer():\n",
    "        cost = (3 * int(eq_A[2])) + int(eq_B[2])\n",
    "    else:\n",
    "        cost = None\n",
    "    return cost\n",
    "\n",
    "solve_machine(test[2])"
   ]
  },
  {
   "cell_type": "code",
   "execution_count": 92,
   "metadata": {},
   "outputs": [
    {
     "data": {
      "text/plain": [
       "480"
      ]
     },
     "execution_count": 92,
     "metadata": {},
     "output_type": "execute_result"
    }
   ],
   "source": [
    "def q13a(machines):\n",
    "    costs = [solve_machine(machine) for machine in machines]\n",
    "    return sum(c for c in costs if c is not None)\n",
    "q13a(test)"
   ]
  },
  {
   "cell_type": "code",
   "execution_count": 93,
   "metadata": {},
   "outputs": [
    {
     "data": {
      "text/plain": [
       "33209"
      ]
     },
     "execution_count": 93,
     "metadata": {},
     "output_type": "execute_result"
    }
   ],
   "source": [
    "q13a(input)"
   ]
  },
  {
   "cell_type": "code",
   "execution_count": 99,
   "metadata": {},
   "outputs": [
    {
     "data": {
      "text/plain": [
       "[[94, 22, 8400], [34, 67, 5400]]"
      ]
     },
     "execution_count": 99,
     "metadata": {},
     "output_type": "execute_result"
    }
   ],
   "source": [
    "test[0]"
   ]
  },
  {
   "cell_type": "code",
   "execution_count": 104,
   "metadata": {},
   "outputs": [
    {
     "data": {
      "text/plain": [
       "875318608908"
      ]
     },
     "execution_count": 104,
     "metadata": {},
     "output_type": "execute_result"
    }
   ],
   "source": [
    "def q13b(machines):\n",
    "    machines = [[[a, b, t + 10000000000000] for a, b, t in machine] for machine in machines]\n",
    "    costs = [solve_machine(machine) for machine in machines]\n",
    "    return sum(c for c in costs if c is not None)\n",
    "q13b(test)"
   ]
  },
  {
   "cell_type": "code",
   "execution_count": 105,
   "metadata": {},
   "outputs": [
    {
     "data": {
      "text/plain": [
       "83102355665474"
      ]
     },
     "execution_count": 105,
     "metadata": {},
     "output_type": "execute_result"
    }
   ],
   "source": [
    "q13b(input)"
   ]
  }
 ],
 "metadata": {
  "kernelspec": {
   "display_name": ".venv",
   "language": "python",
   "name": "python3"
  },
  "language_info": {
   "codemirror_mode": {
    "name": "ipython",
    "version": 3
   },
   "file_extension": ".py",
   "mimetype": "text/x-python",
   "name": "python",
   "nbconvert_exporter": "python",
   "pygments_lexer": "ipython3",
   "version": "3.13.0"
  }
 },
 "nbformat": 4,
 "nbformat_minor": 2
}
