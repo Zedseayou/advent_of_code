{
 "cells": [
  {
   "cell_type": "code",
   "execution_count": 1,
   "metadata": {},
   "outputs": [],
   "source": [
    "from itertools import product\n",
    "from tqdm.notebook import tqdm"
   ]
  },
  {
   "cell_type": "code",
   "execution_count": 2,
   "metadata": {},
   "outputs": [],
   "source": [
    "def read_input(path):\n",
    "    with open(path) as file:\n",
    "        lines = [line.strip().split(\": \")  for line in file]\n",
    "        equations = [(int(line[0]), line[1].split(\" \")) for line in lines]\n",
    "    return equations"
   ]
  },
  {
   "cell_type": "code",
   "execution_count": 3,
   "metadata": {},
   "outputs": [
    {
     "data": {
      "text/plain": [
       "[(190, ['10', '19']),\n",
       " (3267, ['81', '40', '27']),\n",
       " (83, ['17', '5']),\n",
       " (156, ['15', '6']),\n",
       " (7290, ['6', '8', '6', '15']),\n",
       " (161011, ['16', '10', '13']),\n",
       " (192, ['17', '8', '14']),\n",
       " (21037, ['9', '7', '18', '13']),\n",
       " (292, ['11', '6', '16', '20'])]"
      ]
     },
     "execution_count": 3,
     "metadata": {},
     "output_type": "execute_result"
    }
   ],
   "source": [
    "test = read_input(\"test/test_07.txt\")\n",
    "test"
   ]
  },
  {
   "cell_type": "code",
   "execution_count": 4,
   "metadata": {},
   "outputs": [],
   "source": [
    "input = read_input(\"input/input_07.txt\")"
   ]
  },
  {
   "cell_type": "code",
   "execution_count": 25,
   "metadata": {},
   "outputs": [],
   "source": [
    "def test_equation(equation, operators=(\"+\", \"*\")):\n",
    "    results = []\n",
    "    operator_sequences = product(operators, repeat = len(equation) - 1)\n",
    "    for sequence in operator_sequences:\n",
    "        left = equation[0]\n",
    "        for operator, number in zip(sequence, equation[1:]):\n",
    "            if operator == \"+\":\n",
    "                left = int(left) + int(number)\n",
    "            elif operator == \"*\":\n",
    "                left = int(left) * int(number)\n",
    "            elif operator == \"||\":\n",
    "                left = str(left) + str(number)\n",
    "        results.append(int(left))\n",
    "    return results"
   ]
  },
  {
   "cell_type": "code",
   "execution_count": 15,
   "metadata": {},
   "outputs": [],
   "source": [
    "def q7a(equations):\n",
    "    total = 0\n",
    "    for test_value, eq in tqdm(equations):\n",
    "        results = test_equation(eq)\n",
    "        if test_value in results:\n",
    "            total += test_value\n",
    "    return total"
   ]
  },
  {
   "cell_type": "code",
   "execution_count": 16,
   "metadata": {},
   "outputs": [
    {
     "data": {
      "application/vnd.jupyter.widget-view+json": {
       "model_id": "cd5e9f8a9ace49058919a00d9aed875b",
       "version_major": 2,
       "version_minor": 0
      },
      "text/plain": [
       "  0%|          | 0/9 [00:00<?, ?it/s]"
      ]
     },
     "metadata": {},
     "output_type": "display_data"
    },
    {
     "data": {
      "text/plain": [
       "3749"
      ]
     },
     "execution_count": 16,
     "metadata": {},
     "output_type": "execute_result"
    }
   ],
   "source": [
    "q7a(test)"
   ]
  },
  {
   "cell_type": "code",
   "execution_count": 17,
   "metadata": {},
   "outputs": [
    {
     "data": {
      "application/vnd.jupyter.widget-view+json": {
       "model_id": "2599f338daf647f9afa45b89225ac989",
       "version_major": 2,
       "version_minor": 0
      },
      "text/plain": [
       "  0%|          | 0/850 [00:00<?, ?it/s]"
      ]
     },
     "metadata": {},
     "output_type": "display_data"
    },
    {
     "data": {
      "text/plain": [
       "5702958180383"
      ]
     },
     "execution_count": 17,
     "metadata": {},
     "output_type": "execute_result"
    }
   ],
   "source": [
    "q7a(input)"
   ]
  },
  {
   "cell_type": "code",
   "execution_count": 21,
   "metadata": {},
   "outputs": [],
   "source": [
    "def q7b(equations):\n",
    "    total = 0\n",
    "    for test_value, eq in tqdm(equations):\n",
    "        results = test_equation(eq, operators = (\"+\", \"*\", \"||\"))\n",
    "        if test_value in results:\n",
    "            total += test_value\n",
    "    return total"
   ]
  },
  {
   "cell_type": "code",
   "execution_count": 26,
   "metadata": {},
   "outputs": [
    {
     "data": {
      "application/vnd.jupyter.widget-view+json": {
       "model_id": "5959a08eaeda48c09abd650be6bb1b68",
       "version_major": 2,
       "version_minor": 0
      },
      "text/plain": [
       "  0%|          | 0/9 [00:00<?, ?it/s]"
      ]
     },
     "metadata": {},
     "output_type": "display_data"
    },
    {
     "data": {
      "text/plain": [
       "11387"
      ]
     },
     "execution_count": 26,
     "metadata": {},
     "output_type": "execute_result"
    }
   ],
   "source": [
    "q7b(test)"
   ]
  },
  {
   "cell_type": "code",
   "execution_count": 27,
   "metadata": {},
   "outputs": [
    {
     "data": {
      "application/vnd.jupyter.widget-view+json": {
       "model_id": "bd43bbc1f95843128caf62559565ae21",
       "version_major": 2,
       "version_minor": 0
      },
      "text/plain": [
       "  0%|          | 0/850 [00:00<?, ?it/s]"
      ]
     },
     "metadata": {},
     "output_type": "display_data"
    },
    {
     "data": {
      "text/plain": [
       "92612386119138"
      ]
     },
     "execution_count": 27,
     "metadata": {},
     "output_type": "execute_result"
    }
   ],
   "source": [
    "q7b(input)"
   ]
  }
 ],
 "metadata": {
  "kernelspec": {
   "display_name": ".venv",
   "language": "python",
   "name": "python3"
  },
  "language_info": {
   "codemirror_mode": {
    "name": "ipython",
    "version": 3
   },
   "file_extension": ".py",
   "mimetype": "text/x-python",
   "name": "python",
   "nbconvert_exporter": "python",
   "pygments_lexer": "ipython3",
   "version": "3.13.0"
  }
 },
 "nbformat": 4,
 "nbformat_minor": 2
}
